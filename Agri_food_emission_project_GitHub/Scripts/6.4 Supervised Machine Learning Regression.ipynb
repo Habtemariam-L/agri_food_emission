{
 "cells": [
  {
   "cell_type": "markdown",
   "metadata": {},
   "source": [
    "## Content:\n",
    "\n",
    "### 1. Importing libraries and data\n",
    "### 2. Conduct consistency checks\n",
    "### 3. Data preparation for regression analysis\n",
    "### 4. Regression analysis\n"
   ]
  },
  {
   "cell_type": "markdown",
   "metadata": {},
   "source": [
    "### 1. Importing libraries and data"
   ]
  },
  {
   "cell_type": "code",
   "execution_count": 59,
   "metadata": {},
   "outputs": [],
   "source": [
    "import pandas as pd\n",
    "import numpy as np\n",
    "import seaborn as sns\n",
    "import matplotlib\n",
    "import matplotlib.pyplot as plt\n",
    "import os\n",
    "import sklearn\n",
    "from sklearn.model_selection import train_test_split \n",
    "from sklearn.linear_model import LinearRegression\n",
    "from sklearn.metrics import mean_squared_error, r2_score"
   ]
  },
  {
   "cell_type": "code",
   "execution_count": 60,
   "metadata": {},
   "outputs": [],
   "source": [
    "# Make created grpahs to be displayed within the notebook without the need to \"call\" them specifically.\n",
    "\n",
    "%matplotlib inline"
   ]
  },
  {
   "cell_type": "code",
   "execution_count": 61,
   "metadata": {},
   "outputs": [],
   "source": [
    "path =r'C:\\Users\\Lemlem TH\\Desktop\\careerfoundry\\course\\data immersion\\Achievement 6\\Agri_food_emission_analysis'"
   ]
  },
  {
   "cell_type": "code",
   "execution_count": 62,
   "metadata": {},
   "outputs": [],
   "source": [
    "df = pd.read_csv(os.path.join(path, '02_Data','Prepared data', 'agri_food_emission.csv'))"
   ]
  },
  {
   "cell_type": "markdown",
   "metadata": {},
   "source": [
    "### 2. Conduct consistency checks"
   ]
  },
  {
   "cell_type": "code",
   "execution_count": 63,
   "metadata": {
    "scrolled": true
   },
   "outputs": [
    {
     "data": {
      "text/plain": [
       "Index(['Area', 'Year', 'Savanna fires', 'Forest fires', 'Crop Residues',\n",
       "       'Rice Cultivation', 'Drained organic soils (CO2)',\n",
       "       'Pesticides Manufacturing', 'Food Transport', 'Forestland',\n",
       "       'Net Forest conversion', 'Food Household Consumption', 'Food Retail',\n",
       "       'On-farm Electricity Use', 'Food Packaging',\n",
       "       'Agrifood Systems Waste Disposal', 'Food Processing',\n",
       "       'Fertilizers Manufacturing', 'IPPU', 'Manure applied to Soils',\n",
       "       'Manure left on Pasture', 'Manure Management', 'Fires in organic soils',\n",
       "       'Fires in humid tropical forests', 'On-farm energy use',\n",
       "       'Rural population', 'Urban population', 'Total Population - Male',\n",
       "       'Total Population - Female', 'total_emission',\n",
       "       'Average Temperature °C'],\n",
       "      dtype='object')"
      ]
     },
     "execution_count": 63,
     "metadata": {},
     "output_type": "execute_result"
    }
   ],
   "source": [
    "df.columns"
   ]
  },
  {
   "cell_type": "code",
   "execution_count": 64,
   "metadata": {
    "scrolled": true
   },
   "outputs": [
    {
     "data": {
      "text/html": [
       "<div>\n",
       "<style scoped>\n",
       "    .dataframe tbody tr th:only-of-type {\n",
       "        vertical-align: middle;\n",
       "    }\n",
       "\n",
       "    .dataframe tbody tr th {\n",
       "        vertical-align: top;\n",
       "    }\n",
       "\n",
       "    .dataframe thead th {\n",
       "        text-align: right;\n",
       "    }\n",
       "</style>\n",
       "<table border=\"1\" class=\"dataframe\">\n",
       "  <thead>\n",
       "    <tr style=\"text-align: right;\">\n",
       "      <th></th>\n",
       "      <th>Area</th>\n",
       "      <th>Year</th>\n",
       "      <th>Savanna fires</th>\n",
       "      <th>Forest fires</th>\n",
       "      <th>Crop Residues</th>\n",
       "      <th>Rice Cultivation</th>\n",
       "      <th>Drained organic soils (CO2)</th>\n",
       "      <th>Pesticides Manufacturing</th>\n",
       "      <th>Food Transport</th>\n",
       "      <th>Forestland</th>\n",
       "      <th>...</th>\n",
       "      <th>Manure Management</th>\n",
       "      <th>Fires in organic soils</th>\n",
       "      <th>Fires in humid tropical forests</th>\n",
       "      <th>On-farm energy use</th>\n",
       "      <th>Rural population</th>\n",
       "      <th>Urban population</th>\n",
       "      <th>Total Population - Male</th>\n",
       "      <th>Total Population - Female</th>\n",
       "      <th>total_emission</th>\n",
       "      <th>Average Temperature °C</th>\n",
       "    </tr>\n",
       "  </thead>\n",
       "  <tbody>\n",
       "    <tr>\n",
       "      <th>0</th>\n",
       "      <td>Albania</td>\n",
       "      <td>1990</td>\n",
       "      <td>5.5561</td>\n",
       "      <td>7.0253</td>\n",
       "      <td>59.2391</td>\n",
       "      <td>23.5200</td>\n",
       "      <td>110.5705</td>\n",
       "      <td>2.0</td>\n",
       "      <td>46.9645</td>\n",
       "      <td>72.8581</td>\n",
       "      <td>...</td>\n",
       "      <td>474.6951</td>\n",
       "      <td>0.0</td>\n",
       "      <td>0.0</td>\n",
       "      <td>320.8805</td>\n",
       "      <td>2086075.0</td>\n",
       "      <td>1195379.0</td>\n",
       "      <td>1676902.0</td>\n",
       "      <td>1618163.0</td>\n",
       "      <td>3475.291240</td>\n",
       "      <td>0.735750</td>\n",
       "    </tr>\n",
       "    <tr>\n",
       "      <th>1</th>\n",
       "      <td>Albania</td>\n",
       "      <td>1991</td>\n",
       "      <td>5.5561</td>\n",
       "      <td>7.0253</td>\n",
       "      <td>31.4625</td>\n",
       "      <td>6.2720</td>\n",
       "      <td>110.5705</td>\n",
       "      <td>2.0</td>\n",
       "      <td>47.9519</td>\n",
       "      <td>72.8581</td>\n",
       "      <td>...</td>\n",
       "      <td>469.1415</td>\n",
       "      <td>0.0</td>\n",
       "      <td>0.0</td>\n",
       "      <td>195.1879</td>\n",
       "      <td>2073348.0</td>\n",
       "      <td>1202083.0</td>\n",
       "      <td>1675168.0</td>\n",
       "      <td>1626914.0</td>\n",
       "      <td>5680.135772</td>\n",
       "      <td>-0.461500</td>\n",
       "    </tr>\n",
       "    <tr>\n",
       "      <th>2</th>\n",
       "      <td>Albania</td>\n",
       "      <td>1992</td>\n",
       "      <td>5.5561</td>\n",
       "      <td>7.0253</td>\n",
       "      <td>29.9373</td>\n",
       "      <td>1.8816</td>\n",
       "      <td>110.5705</td>\n",
       "      <td>2.0</td>\n",
       "      <td>40.5272</td>\n",
       "      <td>72.8581</td>\n",
       "      <td>...</td>\n",
       "      <td>453.2180</td>\n",
       "      <td>0.0</td>\n",
       "      <td>0.0</td>\n",
       "      <td>163.1332</td>\n",
       "      <td>2033508.0</td>\n",
       "      <td>1207079.0</td>\n",
       "      <td>1670550.0</td>\n",
       "      <td>1633189.0</td>\n",
       "      <td>5221.131572</td>\n",
       "      <td>0.318250</td>\n",
       "    </tr>\n",
       "    <tr>\n",
       "      <th>3</th>\n",
       "      <td>Albania</td>\n",
       "      <td>1993</td>\n",
       "      <td>5.5561</td>\n",
       "      <td>7.0253</td>\n",
       "      <td>44.0550</td>\n",
       "      <td>1.0976</td>\n",
       "      <td>110.5705</td>\n",
       "      <td>2.0</td>\n",
       "      <td>57.6592</td>\n",
       "      <td>72.8581</td>\n",
       "      <td>...</td>\n",
       "      <td>481.3836</td>\n",
       "      <td>0.0</td>\n",
       "      <td>0.0</td>\n",
       "      <td>126.8489</td>\n",
       "      <td>1983942.0</td>\n",
       "      <td>1205641.0</td>\n",
       "      <td>1663515.0</td>\n",
       "      <td>1637195.0</td>\n",
       "      <td>5316.973272</td>\n",
       "      <td>0.270500</td>\n",
       "    </tr>\n",
       "    <tr>\n",
       "      <th>4</th>\n",
       "      <td>Albania</td>\n",
       "      <td>1994</td>\n",
       "      <td>5.5561</td>\n",
       "      <td>7.0253</td>\n",
       "      <td>42.4253</td>\n",
       "      <td>0.0000</td>\n",
       "      <td>110.5705</td>\n",
       "      <td>3.0</td>\n",
       "      <td>72.4242</td>\n",
       "      <td>72.8581</td>\n",
       "      <td>...</td>\n",
       "      <td>620.2991</td>\n",
       "      <td>0.0</td>\n",
       "      <td>0.0</td>\n",
       "      <td>94.9545</td>\n",
       "      <td>1936056.0</td>\n",
       "      <td>1204539.0</td>\n",
       "      <td>1654796.0</td>\n",
       "      <td>1639203.0</td>\n",
       "      <td>5564.287672</td>\n",
       "      <td>1.202667</td>\n",
       "    </tr>\n",
       "  </tbody>\n",
       "</table>\n",
       "<p>5 rows × 31 columns</p>\n",
       "</div>"
      ],
      "text/plain": [
       "      Area  Year  Savanna fires  Forest fires  Crop Residues  \\\n",
       "0  Albania  1990         5.5561        7.0253        59.2391   \n",
       "1  Albania  1991         5.5561        7.0253        31.4625   \n",
       "2  Albania  1992         5.5561        7.0253        29.9373   \n",
       "3  Albania  1993         5.5561        7.0253        44.0550   \n",
       "4  Albania  1994         5.5561        7.0253        42.4253   \n",
       "\n",
       "   Rice Cultivation  Drained organic soils (CO2)  Pesticides Manufacturing  \\\n",
       "0           23.5200                     110.5705                       2.0   \n",
       "1            6.2720                     110.5705                       2.0   \n",
       "2            1.8816                     110.5705                       2.0   \n",
       "3            1.0976                     110.5705                       2.0   \n",
       "4            0.0000                     110.5705                       3.0   \n",
       "\n",
       "   Food Transport  Forestland  ...  Manure Management  Fires in organic soils  \\\n",
       "0         46.9645     72.8581  ...           474.6951                     0.0   \n",
       "1         47.9519     72.8581  ...           469.1415                     0.0   \n",
       "2         40.5272     72.8581  ...           453.2180                     0.0   \n",
       "3         57.6592     72.8581  ...           481.3836                     0.0   \n",
       "4         72.4242     72.8581  ...           620.2991                     0.0   \n",
       "\n",
       "   Fires in humid tropical forests  On-farm energy use  Rural population  \\\n",
       "0                              0.0            320.8805         2086075.0   \n",
       "1                              0.0            195.1879         2073348.0   \n",
       "2                              0.0            163.1332         2033508.0   \n",
       "3                              0.0            126.8489         1983942.0   \n",
       "4                              0.0             94.9545         1936056.0   \n",
       "\n",
       "   Urban population  Total Population - Male  Total Population - Female  \\\n",
       "0         1195379.0                1676902.0                  1618163.0   \n",
       "1         1202083.0                1675168.0                  1626914.0   \n",
       "2         1207079.0                1670550.0                  1633189.0   \n",
       "3         1205641.0                1663515.0                  1637195.0   \n",
       "4         1204539.0                1654796.0                  1639203.0   \n",
       "\n",
       "   total_emission  Average Temperature °C  \n",
       "0     3475.291240                0.735750  \n",
       "1     5680.135772               -0.461500  \n",
       "2     5221.131572                0.318250  \n",
       "3     5316.973272                0.270500  \n",
       "4     5564.287672                1.202667  \n",
       "\n",
       "[5 rows x 31 columns]"
      ]
     },
     "execution_count": 64,
     "metadata": {},
     "output_type": "execute_result"
    }
   ],
   "source": [
    "df.head()"
   ]
  },
  {
   "cell_type": "code",
   "execution_count": 65,
   "metadata": {
    "scrolled": true
   },
   "outputs": [
    {
     "data": {
      "text/plain": [
       "(4546, 31)"
      ]
     },
     "execution_count": 65,
     "metadata": {},
     "output_type": "execute_result"
    }
   ],
   "source": [
    "df.shape"
   ]
  },
  {
   "cell_type": "markdown",
   "metadata": {},
   "source": [
    "#### Deriving variables"
   ]
  },
  {
   "cell_type": "code",
   "execution_count": 66,
   "metadata": {},
   "outputs": [],
   "source": [
    "# Creat a new variable that represents total population \n",
    "\n",
    "df['Total Population']=df['Total Population - Male'] + df['Total Population - Female'] "
   ]
  },
  {
   "cell_type": "code",
   "execution_count": 67,
   "metadata": {},
   "outputs": [],
   "source": [
    "# Creat a new variable that represents per capita emission\n",
    "\n",
    "df['Per Capita Emission']=(df['total_emission']/(df['Total Population']))"
   ]
  },
  {
   "cell_type": "code",
   "execution_count": 68,
   "metadata": {},
   "outputs": [],
   "source": [
    "# Rename the column name Area\n",
    "\n",
    "df.rename(columns = {'Area' : 'Country'},inplace = True)"
   ]
  },
  {
   "cell_type": "markdown",
   "metadata": {},
   "source": [
    "##### Missing values check"
   ]
  },
  {
   "cell_type": "code",
   "execution_count": 69,
   "metadata": {},
   "outputs": [
    {
     "data": {
      "text/plain": [
       "Country                            0\n",
       "Year                               0\n",
       "Savanna fires                      0\n",
       "Forest fires                       0\n",
       "Crop Residues                      0\n",
       "Rice Cultivation                   0\n",
       "Drained organic soils (CO2)        0\n",
       "Pesticides Manufacturing           0\n",
       "Food Transport                     0\n",
       "Forestland                         0\n",
       "Net Forest conversion              0\n",
       "Food Household Consumption         0\n",
       "Food Retail                        0\n",
       "On-farm Electricity Use            0\n",
       "Food Packaging                     0\n",
       "Agrifood Systems Waste Disposal    0\n",
       "Food Processing                    0\n",
       "Fertilizers Manufacturing          0\n",
       "IPPU                               0\n",
       "Manure applied to Soils            0\n",
       "Manure left on Pasture             0\n",
       "Manure Management                  0\n",
       "Fires in organic soils             0\n",
       "Fires in humid tropical forests    0\n",
       "On-farm energy use                 0\n",
       "Rural population                   0\n",
       "Urban population                   0\n",
       "Total Population - Male            0\n",
       "Total Population - Female          0\n",
       "total_emission                     0\n",
       "Average Temperature °C             0\n",
       "Total Population                   0\n",
       "Per Capita Emission                0\n",
       "dtype: int64"
      ]
     },
     "execution_count": 69,
     "metadata": {},
     "output_type": "execute_result"
    }
   ],
   "source": [
    "# Check for missing values\n",
    "\n",
    "df.isnull().sum()  # No missin value "
   ]
  },
  {
   "cell_type": "markdown",
   "metadata": {},
   "source": [
    "##### Duplicates check"
   ]
  },
  {
   "cell_type": "code",
   "execution_count": 70,
   "metadata": {},
   "outputs": [],
   "source": [
    "dups = df.duplicated()"
   ]
  },
  {
   "cell_type": "code",
   "execution_count": 71,
   "metadata": {},
   "outputs": [
    {
     "data": {
      "text/plain": [
       "(4546,)"
      ]
     },
     "execution_count": 71,
     "metadata": {},
     "output_type": "execute_result"
    }
   ],
   "source": [
    "dups.shape # No duplicates found"
   ]
  },
  {
   "cell_type": "markdown",
   "metadata": {},
   "source": [
    "##### Extreme values checks"
   ]
  },
  {
   "cell_type": "code",
   "execution_count": 72,
   "metadata": {
    "scrolled": true
   },
   "outputs": [
    {
     "name": "stderr",
     "output_type": "stream",
     "text": [
      "C:\\Users\\Lemlem TH\\AppData\\Local\\Temp\\ipykernel_15568\\2263158074.py:1: UserWarning: \n",
      "\n",
      "`distplot` is a deprecated function and will be removed in seaborn v0.14.0.\n",
      "\n",
      "Please adapt your code to use either `displot` (a figure-level function with\n",
      "similar flexibility) or `histplot` (an axes-level function for histograms).\n",
      "\n",
      "For a guide to updating your code to use the new functions, please see\n",
      "https://gist.github.com/mwaskom/de44147ed2974457ad6372750bbe5751\n",
      "\n",
      "  sns.distplot(df['Per Capita Emission'], bins=100) # Shows extreme values\n"
     ]
    },
    {
     "data": {
      "text/plain": [
       "<Axes: xlabel='Per Capita Emission', ylabel='Density'>"
      ]
     },
     "execution_count": 72,
     "metadata": {},
     "output_type": "execute_result"
    },
    {
     "data": {
      "image/png": "[encoded data removed]",
      "text/plain": [
       "<Figure size 640x480 with 1 Axes>"
      ]
     },
     "metadata": {},
     "output_type": "display_data"
    }
   ],
   "source": [
    "sns.distplot(df['Per Capita Emission'], bins=100) # Shows extreme values\n",
    "\n"
   ]
  },
  {
   "cell_type": "code",
   "execution_count": 73,
   "metadata": {},
   "outputs": [],
   "source": [
    "# Clean extreme values\n",
    "\n",
    "df = df[df['Per Capita Emission'] < 0.04] \n",
    "# CAUTION : The choice of 0.04 is only based on looking at the distribution of the data otherwise no scientific support to backup this choice "
   ]
  },
  {
   "cell_type": "code",
   "execution_count": 74,
   "metadata": {},
   "outputs": [
    {
     "data": {
      "text/plain": [
       "0.004115769921253751"
      ]
     },
     "execution_count": 74,
     "metadata": {},
     "output_type": "execute_result"
    }
   ],
   "source": [
    "df['Per Capita Emission'].mean() # Check the mean"
   ]
  },
  {
   "cell_type": "code",
   "execution_count": 75,
   "metadata": {},
   "outputs": [
    {
     "data": {
      "text/plain": [
       "0.0021819799137720013"
      ]
     },
     "execution_count": 75,
     "metadata": {},
     "output_type": "execute_result"
    }
   ],
   "source": [
    "df['Per Capita Emission'].median() # Check the median"
   ]
  },
  {
   "cell_type": "code",
   "execution_count": 76,
   "metadata": {},
   "outputs": [
    {
     "data": {
      "text/plain": [
       "0.03989508961549417"
      ]
     },
     "execution_count": 76,
     "metadata": {},
     "output_type": "execute_result"
    }
   ],
   "source": [
    "df['Per Capita Emission'].max() # Check the max"
   ]
  },
  {
   "cell_type": "code",
   "execution_count": 77,
   "metadata": {},
   "outputs": [
    {
     "data": {
      "text/plain": [
       "<Axes: xlabel='Average Temperature °C', ylabel='Count'>"
      ]
     },
     "execution_count": 77,
     "metadata": {},
     "output_type": "execute_result"
    },
    {
     "data": {
      "image/png": "[encoded data removed]",
      "text/plain": [
       "<Figure size 640x480 with 1 Axes>"
      ]
     },
     "metadata": {},
     "output_type": "display_data"
    }
   ],
   "source": [
    "sns.histplot(df['Average Temperature °C'], bins=100, kde = True) # shows the distribution for 'Average Temperature °C'"
   ]
  },
  {
   "cell_type": "code",
   "execution_count": 78,
   "metadata": {},
   "outputs": [
    {
     "data": {
      "text/plain": [
       "0.9168675382620377"
      ]
     },
     "execution_count": 78,
     "metadata": {},
     "output_type": "execute_result"
    }
   ],
   "source": [
    "df['Average Temperature °C'].mean() # Check the mean"
   ]
  },
  {
   "cell_type": "code",
   "execution_count": 79,
   "metadata": {},
   "outputs": [
    {
     "data": {
      "text/plain": [
       "0.8808333333333334"
      ]
     },
     "execution_count": 79,
     "metadata": {},
     "output_type": "execute_result"
    }
   ],
   "source": [
    "df['Average Temperature °C'].median() # Check the median"
   ]
  },
  {
   "cell_type": "code",
   "execution_count": 80,
   "metadata": {},
   "outputs": [
    {
     "data": {
      "text/plain": [
       "3.5580833333333337"
      ]
     },
     "execution_count": 80,
     "metadata": {},
     "output_type": "execute_result"
    }
   ],
   "source": [
    "df['Average Temperature °C'].max() # Check the max"
   ]
  },
  {
   "cell_type": "markdown",
   "metadata": {},
   "source": [
    "### 3. Data preparation for regression analysis "
   ]
  },
  {
   "cell_type": "code",
   "execution_count": 81,
   "metadata": {
    "scrolled": true
   },
   "outputs": [
    {
     "data": {
      "image/png": "[encoded data removed]",
      "text/plain": [
       "<Figure size 640x480 with 1 Axes>"
      ]
     },
     "metadata": {},
     "output_type": "display_data"
    }
   ],
   "source": [
    "# Create a scatterplot using matplotlib to see how the chosen variables plot against each other.\n",
    "\n",
    "df.plot(x = 'Per Capita Emission', y='Average Temperature °C',style='o') # The style option creates a scatterplot; without it, we only have lines.\n",
    "plt.title('Per Capita Emission vs Average Temprature Change')  \n",
    "plt.xlabel('Per Capita Emission')  \n",
    "plt.ylabel('Avergae Temprature Change')  \n",
    "plt.show()"
   ]
  },
  {
   "cell_type": "markdown",
   "metadata": {},
   "source": [
    "The hypothesis I am interested to explore is that there is a linear relationship between per capita agri-food emission and change in local temprature. I am hypothesizing that an increase in per capita emission will have an increasing effect in temprature."
   ]
  },
  {
   "cell_type": "code",
   "execution_count": 82,
   "metadata": {},
   "outputs": [],
   "source": [
    "# Reshape the variables into NumPy arrays and put them into separate objects.\n",
    "\n",
    "X = df['Per Capita Emission'].values.reshape(-1,1)\n",
    "y = df['Average Temperature °C'].values.reshape(-1,1)"
   ]
  },
  {
   "cell_type": "code",
   "execution_count": 83,
   "metadata": {},
   "outputs": [
    {
     "data": {
      "text/plain": [
       "array([[0.0010547 ],\n",
       "       [0.00172017],\n",
       "       [0.00158037],\n",
       "       ...,\n",
       "       [0.00648865],\n",
       "       [0.0064468 ],\n",
       "       [0.00615873]])"
      ]
     },
     "execution_count": 83,
     "metadata": {},
     "output_type": "execute_result"
    }
   ],
   "source": [
    "X"
   ]
  },
  {
   "cell_type": "code",
   "execution_count": 84,
   "metadata": {},
   "outputs": [
    {
     "data": {
      "text/plain": [
       "array([[ 0.73575   ],\n",
       "       [-0.4615    ],\n",
       "       [ 0.31825   ],\n",
       "       ...,\n",
       "       [ 0.51633333],\n",
       "       [ 0.98566667],\n",
       "       [ 0.189     ]])"
      ]
     },
     "execution_count": 84,
     "metadata": {},
     "output_type": "execute_result"
    }
   ],
   "source": [
    "y"
   ]
  },
  {
   "cell_type": "code",
   "execution_count": 85,
   "metadata": {
    "scrolled": true
   },
   "outputs": [],
   "source": [
    "# Split data into a training set and a test set.\n",
    "\n",
    "X_train, X_test, y_train, y_test = train_test_split(X, y, test_size=0.3, random_state=0)"
   ]
  },
  {
   "cell_type": "markdown",
   "metadata": {},
   "source": [
    "### 4. Regression analysis"
   ]
  },
  {
   "cell_type": "code",
   "execution_count": 86,
   "metadata": {},
   "outputs": [],
   "source": [
    "# Create a regression object.\n",
    "\n",
    "regression = LinearRegression()  # This is the regression object, which will be fit onto the training set."
   ]
  },
  {
   "cell_type": "code",
   "execution_count": 87,
   "metadata": {},
   "outputs": [
    {
     "data": {
      "text/html": [
       "<style>#sk-container-id-2 {color: black;}#sk-container-id-2 pre{padding: 0;}#sk-container-id-2 div.sk-toggleable {background-color: white;}#sk-container-id-2 label.sk-toggleable__label {cursor: pointer;display: block;width: 100%;margin-bottom: 0;padding: 0.3em;box-sizing: border-box;text-align: center;}#sk-container-id-2 label.sk-toggleable__label-arrow:before {content: \"▸\";float: left;margin-right: 0.25em;color: #696969;}#sk-container-id-2 label.sk-toggleable__label-arrow:hover:before {color: black;}#sk-container-id-2 div.sk-estimator:hover label.sk-toggleable__label-arrow:before {color: black;}#sk-container-id-2 div.sk-toggleable__content {max-height: 0;max-width: 0;overflow: hidden;text-align: left;background-color: #f0f8ff;}#sk-container-id-2 div.sk-toggleable__content pre {margin: 0.2em;color: black;border-radius: 0.25em;background-color: #f0f8ff;}#sk-container-id-2 input.sk-toggleable__control:checked~div.sk-toggleable__content {max-height: 200px;max-width: 100%;overflow: auto;}#sk-container-id-2 input.sk-toggleable__control:checked~label.sk-toggleable__label-arrow:before {content: \"▾\";}#sk-container-id-2 div.sk-estimator input.sk-toggleable__control:checked~label.sk-toggleable__label {background-color: #d4ebff;}#sk-container-id-2 div.sk-label input.sk-toggleable__control:checked~label.sk-toggleable__label {background-color: #d4ebff;}#sk-container-id-2 input.sk-hidden--visually {border: 0;clip: rect(1px 1px 1px 1px);clip: rect(1px, 1px, 1px, 1px);height: 1px;margin: -1px;overflow: hidden;padding: 0;position: absolute;width: 1px;}#sk-container-id-2 div.sk-estimator {font-family: monospace;background-color: #f0f8ff;border: 1px dotted black;border-radius: 0.25em;box-sizing: border-box;margin-bottom: 0.5em;}#sk-container-id-2 div.sk-estimator:hover {background-color: #d4ebff;}#sk-container-id-2 div.sk-parallel-item::after {content: \"\";width: 100%;border-bottom: 1px solid gray;flex-grow: 1;}#sk-container-id-2 div.sk-label:hover label.sk-toggleable__label {background-color: #d4ebff;}#sk-container-id-2 div.sk-serial::before {content: \"\";position: absolute;border-left: 1px solid gray;box-sizing: border-box;top: 0;bottom: 0;left: 50%;z-index: 0;}#sk-container-id-2 div.sk-serial {display: flex;flex-direction: column;align-items: center;background-color: white;padding-right: 0.2em;padding-left: 0.2em;position: relative;}#sk-container-id-2 div.sk-item {position: relative;z-index: 1;}#sk-container-id-2 div.sk-parallel {display: flex;align-items: stretch;justify-content: center;background-color: white;position: relative;}#sk-container-id-2 div.sk-item::before, #sk-container-id-2 div.sk-parallel-item::before {content: \"\";position: absolute;border-left: 1px solid gray;box-sizing: border-box;top: 0;bottom: 0;left: 50%;z-index: -1;}#sk-container-id-2 div.sk-parallel-item {display: flex;flex-direction: column;z-index: 1;position: relative;background-color: white;}#sk-container-id-2 div.sk-parallel-item:first-child::after {align-self: flex-end;width: 50%;}#sk-container-id-2 div.sk-parallel-item:last-child::after {align-self: flex-start;width: 50%;}#sk-container-id-2 div.sk-parallel-item:only-child::after {width: 0;}#sk-container-id-2 div.sk-dashed-wrapped {border: 1px dashed gray;margin: 0 0.4em 0.5em 0.4em;box-sizing: border-box;padding-bottom: 0.4em;background-color: white;}#sk-container-id-2 div.sk-label label {font-family: monospace;font-weight: bold;display: inline-block;line-height: 1.2em;}#sk-container-id-2 div.sk-label-container {text-align: center;}#sk-container-id-2 div.sk-container {/* jupyter's `normalize.less` sets `[hidden] { display: none; }` but bootstrap.min.css set `[hidden] { display: none !important; }` so we also need the `!important` here to be able to override the default hidden behavior on the sphinx rendered scikit-learn.org. See: https://github.com/scikit-learn/scikit-learn/issues/21755 */display: inline-block !important;position: relative;}#sk-container-id-2 div.sk-text-repr-fallback {display: none;}</style><div id=\"sk-container-id-2\" class=\"sk-top-container\"><div class=\"sk-text-repr-fallback\"><pre>LinearRegression()</pre><b>In a Jupyter environment, please rerun this cell to show the HTML representation or trust the notebook. <br />On GitHub, the HTML representation is unable to render, please try loading this page with nbviewer.org.</b></div><div class=\"sk-container\" hidden><div class=\"sk-item\"><div class=\"sk-estimator sk-toggleable\"><input class=\"sk-toggleable__control sk-hidden--visually\" id=\"sk-estimator-id-2\" type=\"checkbox\" checked><label for=\"sk-estimator-id-2\" class=\"sk-toggleable__label sk-toggleable__label-arrow\">LinearRegression</label><div class=\"sk-toggleable__content\"><pre>LinearRegression()</pre></div></div></div></div></div>"
      ],
      "text/plain": [
       "LinearRegression()"
      ]
     },
     "execution_count": 87,
     "metadata": {},
     "output_type": "execute_result"
    }
   ],
   "source": [
    "# Fit the regression object onto the training set.\n",
    "\n",
    "regression.fit(X_train, y_train)"
   ]
  },
  {
   "cell_type": "code",
   "execution_count": 88,
   "metadata": {},
   "outputs": [],
   "source": [
    "# Predict the values of y using X.\n",
    "\n",
    "y_predicted = regression.predict(X_test)"
   ]
  },
  {
   "cell_type": "code",
   "execution_count": 89,
   "metadata": {},
   "outputs": [
    {
     "data": {
      "image/png": "[encoded data removed]",
      "text/plain": [
       "<Figure size 640x480 with 1 Axes>"
      ]
     },
     "metadata": {},
     "output_type": "display_data"
    }
   ],
   "source": [
    "# Create a plot that shows the regression line from the model on the test set.\n",
    "\n",
    "plot_test = plt\n",
    "plot_test.scatter(X_test, y_test, color='gray', s = 15)\n",
    "plot_test.plot(X_test, y_predicted, color='red', linewidth =3)\n",
    "plot_test.title('Per Capita Emission vs Average Temprature Change (Test set)')\n",
    "plot_test.xlabel('Per Capita Emission')\n",
    "plot_test.ylabel('Avergae Temprature Change')\n",
    "plot_test.show()"
   ]
  },
  {
   "cell_type": "markdown",
   "metadata": {},
   "source": [
    "The scatter plot suggests that the regression line fit the data poorly. As one can see there is a wide dispersion of points where the x-axis values are around 0.00."
   ]
  },
  {
   "cell_type": "code",
   "execution_count": 90,
   "metadata": {},
   "outputs": [],
   "source": [
    "# Create objects that contain the model summary statistics (MSE and R2).\n",
    "\n",
    "rmse = mean_squared_error(y_test, y_predicted) # This is the mean squared error\n",
    "r2 = r2_score(y_test, y_predicted) # This is the R2 score. "
   ]
  },
  {
   "cell_type": "code",
   "execution_count": 91,
   "metadata": {},
   "outputs": [
    {
     "name": "stdout",
     "output_type": "stream",
     "text": [
      "Slope: [[-7.71184094]]\n",
      "Mean squared error:  0.34409681124530556\n",
      "R2 score:  0.011468048089043226\n"
     ]
    }
   ],
   "source": [
    "# Print the model summary statistics. This is where we can evaluate the performance of the model.\n",
    "\n",
    "print('Slope:' ,regression.coef_)\n",
    "print('Mean squared error: ', rmse)\n",
    "print('R2 score: ', r2)"
   ]
  },
  {
   "cell_type": "code",
   "execution_count": 92,
   "metadata": {},
   "outputs": [
    {
     "data": {
      "text/plain": [
       "array([[0.92085672],\n",
       "       [0.92597829],\n",
       "       [0.92923119],\n",
       "       ...,\n",
       "       [0.92559636],\n",
       "       [0.92185582],\n",
       "       [0.92006656]])"
      ]
     },
     "execution_count": 92,
     "metadata": {},
     "output_type": "execute_result"
    }
   ],
   "source": [
    "y_predicted"
   ]
  },
  {
   "cell_type": "code",
   "execution_count": 93,
   "metadata": {
    "scrolled": true
   },
   "outputs": [
    {
     "data": {
      "text/html": [
       "<div>\n",
       "<style scoped>\n",
       "    .dataframe tbody tr th:only-of-type {\n",
       "        vertical-align: middle;\n",
       "    }\n",
       "\n",
       "    .dataframe tbody tr th {\n",
       "        vertical-align: top;\n",
       "    }\n",
       "\n",
       "    .dataframe thead th {\n",
       "        text-align: right;\n",
       "    }\n",
       "</style>\n",
       "<table border=\"1\" class=\"dataframe\">\n",
       "  <thead>\n",
       "    <tr style=\"text-align: right;\">\n",
       "      <th></th>\n",
       "      <th>Actual</th>\n",
       "      <th>Predicted</th>\n",
       "    </tr>\n",
       "  </thead>\n",
       "  <tbody>\n",
       "    <tr>\n",
       "      <th>0</th>\n",
       "      <td>1.763167</td>\n",
       "      <td>0.920857</td>\n",
       "    </tr>\n",
       "    <tr>\n",
       "      <th>1</th>\n",
       "      <td>0.854583</td>\n",
       "      <td>0.925978</td>\n",
       "    </tr>\n",
       "    <tr>\n",
       "      <th>2</th>\n",
       "      <td>0.639750</td>\n",
       "      <td>0.929231</td>\n",
       "    </tr>\n",
       "    <tr>\n",
       "      <th>3</th>\n",
       "      <td>1.057083</td>\n",
       "      <td>0.945436</td>\n",
       "    </tr>\n",
       "    <tr>\n",
       "      <th>4</th>\n",
       "      <td>1.721083</td>\n",
       "      <td>0.843604</td>\n",
       "    </tr>\n",
       "    <tr>\n",
       "      <th>5</th>\n",
       "      <td>0.711167</td>\n",
       "      <td>0.851542</td>\n",
       "    </tr>\n",
       "    <tr>\n",
       "      <th>6</th>\n",
       "      <td>0.438583</td>\n",
       "      <td>0.853803</td>\n",
       "    </tr>\n",
       "    <tr>\n",
       "      <th>7</th>\n",
       "      <td>0.809000</td>\n",
       "      <td>0.940015</td>\n",
       "    </tr>\n",
       "    <tr>\n",
       "      <th>8</th>\n",
       "      <td>0.796417</td>\n",
       "      <td>0.882107</td>\n",
       "    </tr>\n",
       "    <tr>\n",
       "      <th>9</th>\n",
       "      <td>0.687083</td>\n",
       "      <td>0.913820</td>\n",
       "    </tr>\n",
       "    <tr>\n",
       "      <th>10</th>\n",
       "      <td>1.202833</td>\n",
       "      <td>0.937562</td>\n",
       "    </tr>\n",
       "    <tr>\n",
       "      <th>11</th>\n",
       "      <td>0.107333</td>\n",
       "      <td>0.914026</td>\n",
       "    </tr>\n",
       "    <tr>\n",
       "      <th>12</th>\n",
       "      <td>0.441250</td>\n",
       "      <td>0.925825</td>\n",
       "    </tr>\n",
       "    <tr>\n",
       "      <th>13</th>\n",
       "      <td>0.443000</td>\n",
       "      <td>0.916090</td>\n",
       "    </tr>\n",
       "    <tr>\n",
       "      <th>14</th>\n",
       "      <td>0.515000</td>\n",
       "      <td>0.945252</td>\n",
       "    </tr>\n",
       "    <tr>\n",
       "      <th>15</th>\n",
       "      <td>1.458833</td>\n",
       "      <td>0.923380</td>\n",
       "    </tr>\n",
       "    <tr>\n",
       "      <th>16</th>\n",
       "      <td>1.177417</td>\n",
       "      <td>0.935444</td>\n",
       "    </tr>\n",
       "    <tr>\n",
       "      <th>17</th>\n",
       "      <td>0.785250</td>\n",
       "      <td>0.754986</td>\n",
       "    </tr>\n",
       "    <tr>\n",
       "      <th>18</th>\n",
       "      <td>1.102917</td>\n",
       "      <td>0.923957</td>\n",
       "    </tr>\n",
       "    <tr>\n",
       "      <th>19</th>\n",
       "      <td>0.529500</td>\n",
       "      <td>0.880451</td>\n",
       "    </tr>\n",
       "    <tr>\n",
       "      <th>20</th>\n",
       "      <td>0.396417</td>\n",
       "      <td>0.893427</td>\n",
       "    </tr>\n",
       "    <tr>\n",
       "      <th>21</th>\n",
       "      <td>1.432500</td>\n",
       "      <td>0.938844</td>\n",
       "    </tr>\n",
       "    <tr>\n",
       "      <th>22</th>\n",
       "      <td>1.463667</td>\n",
       "      <td>0.907431</td>\n",
       "    </tr>\n",
       "    <tr>\n",
       "      <th>23</th>\n",
       "      <td>1.740500</td>\n",
       "      <td>0.940335</td>\n",
       "    </tr>\n",
       "    <tr>\n",
       "      <th>24</th>\n",
       "      <td>0.784500</td>\n",
       "      <td>0.936774</td>\n",
       "    </tr>\n",
       "    <tr>\n",
       "      <th>25</th>\n",
       "      <td>0.588833</td>\n",
       "      <td>0.927457</td>\n",
       "    </tr>\n",
       "    <tr>\n",
       "      <th>26</th>\n",
       "      <td>1.137917</td>\n",
       "      <td>0.934000</td>\n",
       "    </tr>\n",
       "    <tr>\n",
       "      <th>27</th>\n",
       "      <td>1.923667</td>\n",
       "      <td>0.920026</td>\n",
       "    </tr>\n",
       "    <tr>\n",
       "      <th>28</th>\n",
       "      <td>0.379091</td>\n",
       "      <td>0.936767</td>\n",
       "    </tr>\n",
       "    <tr>\n",
       "      <th>29</th>\n",
       "      <td>1.292833</td>\n",
       "      <td>0.935255</td>\n",
       "    </tr>\n",
       "  </tbody>\n",
       "</table>\n",
       "</div>"
      ],
      "text/plain": [
       "      Actual  Predicted\n",
       "0   1.763167   0.920857\n",
       "1   0.854583   0.925978\n",
       "2   0.639750   0.929231\n",
       "3   1.057083   0.945436\n",
       "4   1.721083   0.843604\n",
       "5   0.711167   0.851542\n",
       "6   0.438583   0.853803\n",
       "7   0.809000   0.940015\n",
       "8   0.796417   0.882107\n",
       "9   0.687083   0.913820\n",
       "10  1.202833   0.937562\n",
       "11  0.107333   0.914026\n",
       "12  0.441250   0.925825\n",
       "13  0.443000   0.916090\n",
       "14  0.515000   0.945252\n",
       "15  1.458833   0.923380\n",
       "16  1.177417   0.935444\n",
       "17  0.785250   0.754986\n",
       "18  1.102917   0.923957\n",
       "19  0.529500   0.880451\n",
       "20  0.396417   0.893427\n",
       "21  1.432500   0.938844\n",
       "22  1.463667   0.907431\n",
       "23  1.740500   0.940335\n",
       "24  0.784500   0.936774\n",
       "25  0.588833   0.927457\n",
       "26  1.137917   0.934000\n",
       "27  1.923667   0.920026\n",
       "28  0.379091   0.936767\n",
       "29  1.292833   0.935255"
      ]
     },
     "execution_count": 93,
     "metadata": {},
     "output_type": "execute_result"
    }
   ],
   "source": [
    "# Create a dataframe comparing the actual and predicted values of y.\n",
    "\n",
    "data = pd.DataFrame({'Actual': y_test.flatten(), 'Predicted': y_predicted.flatten()})\n",
    "data.head(30)"
   ]
  },
  {
   "cell_type": "markdown",
   "metadata": {},
   "source": [
    "The R2 value 0.011 shows that the model performs poorly. Also the comparision of the actual and predicted y values displayed above in the data frame suggest that there is a significant difference between the actual and predicted y values."
   ]
  },
  {
   "cell_type": "markdown",
   "metadata": {},
   "source": [
    "##### Comparing how the regression fits the training set"
   ]
  },
  {
   "cell_type": "code",
   "execution_count": 94,
   "metadata": {},
   "outputs": [],
   "source": [
    "# Predict.\n",
    "\n",
    "y_predicted_train = regression.predict(X_train) # Predicting X_train!"
   ]
  },
  {
   "cell_type": "code",
   "execution_count": 95,
   "metadata": {},
   "outputs": [],
   "source": [
    "rmse = mean_squared_error(y_train, y_predicted_train)\n",
    "r2 = r2_score(y_train, y_predicted_train)"
   ]
  },
  {
   "cell_type": "code",
   "execution_count": 96,
   "metadata": {},
   "outputs": [
    {
     "name": "stdout",
     "output_type": "stream",
     "text": [
      "Slope: [[-7.71184094]]\n",
      "Mean squared error:  0.32956377820057564\n",
      "R2 score:  0.005964473961053152\n"
     ]
    }
   ],
   "source": [
    "print('Slope:' ,regression.coef_)\n",
    "print('Mean squared error: ', rmse)\n",
    "print('R2 score: ', r2)"
   ]
  },
  {
   "cell_type": "code",
   "execution_count": 97,
   "metadata": {
    "scrolled": true
   },
   "outputs": [
    {
     "data": {
      "image/png": "[encoded data removed]",
      "text/plain": [
       "<Figure size 640x480 with 1 Axes>"
      ]
     },
     "metadata": {},
     "output_type": "display_data"
    }
   ],
   "source": [
    "# Visualizing the training set results.\n",
    "plot_test = plt\n",
    "plot_test.scatter(X_test, y_test, color='gray', s = 15)\n",
    "plot_test.plot(X_test, y_predicted, color='red', linewidth =3)\n",
    "plot_test.title('Per Capita Emission vs Average Temprature Change (Train set)')\n",
    "plot_test.xlabel('Per Capita Emission')\n",
    "plot_test.ylabel('Avergae Temprature Change')\n",
    "plot_test.show()\n",
    "\n"
   ]
  },
  {
   "cell_type": "markdown",
   "metadata": {},
   "source": [
    "- Similar to the test dataset, the performance of the model on the training dataset is poor.\n",
    "- One could assume that the relationship between emissiona and temprature might be more complicated that there are other variables which needed to be includd in the model"
   ]
  },
  {
   "cell_type": "code",
   "execution_count": null,
   "metadata": {},
   "outputs": [],
   "source": []
  }
 ],
 "metadata": {
  "kernelspec": {
   "display_name": "Python 3 (ipykernel)",
   "language": "python",
   "name": "python3"
  },
  "language_info": {
   "codemirror_mode": {
    "name": "ipython",
    "version": 3
   },
   "file_extension": ".py",
   "mimetype": "text/x-python",
   "name": "python",
   "nbconvert_exporter": "python",
   "pygments_lexer": "ipython3",
   "version": "3.11.5"
  }
 },
 "nbformat": 4,
 "nbformat_minor": 4
}
