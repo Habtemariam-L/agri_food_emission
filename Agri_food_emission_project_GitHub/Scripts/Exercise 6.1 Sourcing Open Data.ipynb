{
 "cells": [
  {
   "cell_type": "markdown",
   "id": "a5d7a78b",
   "metadata": {},
   "source": [
    "# 0.Import libraries\n"
   ]
  },
  {
   "cell_type": "code",
   "execution_count": 87,
   "id": "ba4e61d9",
   "metadata": {},
   "outputs": [],
   "source": [
    "import pandas as pd\n",
    "import numpy as np\n",
    "import os\n",
    "import matplotlib.pyplot as plt\n",
    "import seaborn as sns\n"
   ]
  },
  {
   "cell_type": "markdown",
   "id": "9455fc75",
   "metadata": {},
   "source": [
    "# 1. Loading Data"
   ]
  },
  {
   "cell_type": "code",
   "execution_count": 88,
   "id": "1aaeb59f",
   "metadata": {},
   "outputs": [],
   "source": [
    "# Define the path to the data files\n",
    "path = r\"C:\\Users\\Lemlem TH\\Desktop\\CareerFoundry\\Course\\Data Immersion\\Achievement 6\\Agri_food_emission_analysis\""
   ]
  },
  {
   "cell_type": "code",
   "execution_count": 89,
   "id": "eafdc1e5",
   "metadata": {},
   "outputs": [],
   "source": [
    "# Load the dataset  as \"agri_food_emission\"\n",
    "agri_food_emission = pd.read_csv(os.path.join(path, '02_Data', 'Original data', 'Agrofood_co2_emission.csv'))"
   ]
  },
  {
   "cell_type": "code",
   "execution_count": 90,
   "id": "240fc311",
   "metadata": {},
   "outputs": [
    {
     "name": "stdout",
     "output_type": "stream",
     "text": [
      "          Area  Year  Savanna fires  Forest fires  Crop Residues  \\\n",
      "0  Afghanistan  1990        14.7237        0.0557       205.6077   \n",
      "1  Afghanistan  1991        14.7237        0.0557       209.4971   \n",
      "2  Afghanistan  1992        14.7237        0.0557       196.5341   \n",
      "3  Afghanistan  1993        14.7237        0.0557       230.8175   \n",
      "4  Afghanistan  1994        14.7237        0.0557       242.0494   \n",
      "\n",
      "   Rice Cultivation  Drained organic soils (CO2)  Pesticides Manufacturing  \\\n",
      "0            686.00                          0.0                 11.807483   \n",
      "1            678.16                          0.0                 11.712073   \n",
      "2            686.00                          0.0                 11.712073   \n",
      "3            686.00                          0.0                 11.712073   \n",
      "4            705.60                          0.0                 11.712073   \n",
      "\n",
      "   Food Transport  Forestland  ...  Manure Management  Fires in organic soils  \\\n",
      "0         63.1152   -2388.803  ...           319.1763                     0.0   \n",
      "1         61.2125   -2388.803  ...           342.3079                     0.0   \n",
      "2         53.3170   -2388.803  ...           349.1224                     0.0   \n",
      "3         54.3617   -2388.803  ...           352.2947                     0.0   \n",
      "4         53.9874   -2388.803  ...           367.6784                     0.0   \n",
      "\n",
      "   Fires in humid tropical forests  On-farm energy use  Rural population  \\\n",
      "0                              0.0                 NaN         9655167.0   \n",
      "1                              0.0                 NaN        10230490.0   \n",
      "2                              0.0                 NaN        10995568.0   \n",
      "3                              0.0                 NaN        11858090.0   \n",
      "4                              0.0                 NaN        12690115.0   \n",
      "\n",
      "   Urban population  Total Population - Male  Total Population - Female  \\\n",
      "0         2593947.0                5348387.0                  5346409.0   \n",
      "1         2763167.0                5372959.0                  5372208.0   \n",
      "2         2985663.0                6028494.0                  6028939.0   \n",
      "3         3237009.0                7003641.0                  7000119.0   \n",
      "4         3482604.0                7733458.0                  7722096.0   \n",
      "\n",
      "   total_emission  Average Temperature °C  \n",
      "0     2198.963539                0.536167  \n",
      "1     2323.876629                0.020667  \n",
      "2     2356.304229               -0.259583  \n",
      "3     2368.470529                0.101917  \n",
      "4     2500.768729                0.372250  \n",
      "\n",
      "[5 rows x 31 columns]\n"
     ]
    }
   ],
   "source": [
    "# Checking the dataset is correctly loaded\n",
    "print(agri_food_emission.head())\n"
   ]
  },
  {
   "cell_type": "code",
   "execution_count": 91,
   "id": "29768a09",
   "metadata": {},
   "outputs": [
    {
     "name": "stdout",
     "output_type": "stream",
     "text": [
      "<class 'pandas.core.frame.DataFrame'>\n",
      "RangeIndex: 6965 entries, 0 to 6964\n",
      "Data columns (total 31 columns):\n",
      " #   Column                           Non-Null Count  Dtype  \n",
      "---  ------                           --------------  -----  \n",
      " 0   Area                             6965 non-null   object \n",
      " 1   Year                             6965 non-null   int64  \n",
      " 2   Savanna fires                    6934 non-null   float64\n",
      " 3   Forest fires                     6872 non-null   float64\n",
      " 4   Crop Residues                    5576 non-null   float64\n",
      " 5   Rice Cultivation                 6965 non-null   float64\n",
      " 6   Drained organic soils (CO2)      6965 non-null   float64\n",
      " 7   Pesticides Manufacturing         6965 non-null   float64\n",
      " 8   Food Transport                   6965 non-null   float64\n",
      " 9   Forestland                       6472 non-null   float64\n",
      " 10  Net Forest conversion            6472 non-null   float64\n",
      " 11  Food Household Consumption       6492 non-null   float64\n",
      " 12  Food Retail                      6965 non-null   float64\n",
      " 13  On-farm Electricity Use          6965 non-null   float64\n",
      " 14  Food Packaging                   6965 non-null   float64\n",
      " 15  Agrifood Systems Waste Disposal  6965 non-null   float64\n",
      " 16  Food Processing                  6965 non-null   float64\n",
      " 17  Fertilizers Manufacturing        6965 non-null   float64\n",
      " 18  IPPU                             6222 non-null   float64\n",
      " 19  Manure applied to Soils          6037 non-null   float64\n",
      " 20  Manure left on Pasture           6965 non-null   float64\n",
      " 21  Manure Management                6037 non-null   float64\n",
      " 22  Fires in organic soils           6965 non-null   float64\n",
      " 23  Fires in humid tropical forests  6810 non-null   float64\n",
      " 24  On-farm energy use               6009 non-null   float64\n",
      " 25  Rural population                 6965 non-null   float64\n",
      " 26  Urban population                 6965 non-null   float64\n",
      " 27  Total Population - Male          6965 non-null   float64\n",
      " 28  Total Population - Female        6965 non-null   float64\n",
      " 29  total_emission                   6965 non-null   float64\n",
      " 30  Average Temperature °C           6965 non-null   float64\n",
      "dtypes: float64(29), int64(1), object(1)\n",
      "memory usage: 1.6+ MB\n",
      "None\n"
     ]
    }
   ],
   "source": [
    "# Checking the dataset is correctly loaded\n",
    "\n",
    "print(agri_food_emission.info())\n"
   ]
  },
  {
   "cell_type": "code",
   "execution_count": 92,
   "id": "3a36e3d2",
   "metadata": {},
   "outputs": [
    {
     "data": {
      "text/plain": [
       "(6965, 31)"
      ]
     },
     "execution_count": 92,
     "metadata": {},
     "output_type": "execute_result"
    }
   ],
   "source": [
    "# Checking the dataset is correctly loaded\n",
    "\n",
    "agri_food_emission.shape"
   ]
  },
  {
   "cell_type": "code",
   "execution_count": 93,
   "id": "74189b34",
   "metadata": {},
   "outputs": [
    {
     "data": {
      "text/html": [
       "<div>\n",
       "<style scoped>\n",
       "    .dataframe tbody tr th:only-of-type {\n",
       "        vertical-align: middle;\n",
       "    }\n",
       "\n",
       "    .dataframe tbody tr th {\n",
       "        vertical-align: top;\n",
       "    }\n",
       "\n",
       "    .dataframe thead th {\n",
       "        text-align: right;\n",
       "    }\n",
       "</style>\n",
       "<table border=\"1\" class=\"dataframe\">\n",
       "  <thead>\n",
       "    <tr style=\"text-align: right;\">\n",
       "      <th></th>\n",
       "      <th>Year</th>\n",
       "      <th>Savanna fires</th>\n",
       "      <th>Forest fires</th>\n",
       "      <th>Crop Residues</th>\n",
       "      <th>Rice Cultivation</th>\n",
       "      <th>Drained organic soils (CO2)</th>\n",
       "      <th>Pesticides Manufacturing</th>\n",
       "      <th>Food Transport</th>\n",
       "      <th>Forestland</th>\n",
       "      <th>Net Forest conversion</th>\n",
       "      <th>...</th>\n",
       "      <th>Manure Management</th>\n",
       "      <th>Fires in organic soils</th>\n",
       "      <th>Fires in humid tropical forests</th>\n",
       "      <th>On-farm energy use</th>\n",
       "      <th>Rural population</th>\n",
       "      <th>Urban population</th>\n",
       "      <th>Total Population - Male</th>\n",
       "      <th>Total Population - Female</th>\n",
       "      <th>total_emission</th>\n",
       "      <th>Average Temperature °C</th>\n",
       "    </tr>\n",
       "  </thead>\n",
       "  <tbody>\n",
       "    <tr>\n",
       "      <th>count</th>\n",
       "      <td>6965.000000</td>\n",
       "      <td>6934.000000</td>\n",
       "      <td>6872.000000</td>\n",
       "      <td>5576.000000</td>\n",
       "      <td>6965.000000</td>\n",
       "      <td>6965.000000</td>\n",
       "      <td>6965.000000</td>\n",
       "      <td>6965.000000</td>\n",
       "      <td>6472.000000</td>\n",
       "      <td>6.472000e+03</td>\n",
       "      <td>...</td>\n",
       "      <td>6037.000000</td>\n",
       "      <td>6965.000000</td>\n",
       "      <td>6810.000000</td>\n",
       "      <td>6009.000000</td>\n",
       "      <td>6.965000e+03</td>\n",
       "      <td>6.965000e+03</td>\n",
       "      <td>6.965000e+03</td>\n",
       "      <td>6.965000e+03</td>\n",
       "      <td>6.965000e+03</td>\n",
       "      <td>6965.000000</td>\n",
       "    </tr>\n",
       "    <tr>\n",
       "      <th>mean</th>\n",
       "      <td>2005.124910</td>\n",
       "      <td>1188.390893</td>\n",
       "      <td>919.302167</td>\n",
       "      <td>998.706309</td>\n",
       "      <td>4259.666673</td>\n",
       "      <td>3503.228636</td>\n",
       "      <td>333.418393</td>\n",
       "      <td>1939.581760</td>\n",
       "      <td>-17828.285678</td>\n",
       "      <td>1.760564e+04</td>\n",
       "      <td>...</td>\n",
       "      <td>2263.344946</td>\n",
       "      <td>1210.315532</td>\n",
       "      <td>668.452931</td>\n",
       "      <td>3008.982252</td>\n",
       "      <td>1.785774e+07</td>\n",
       "      <td>1.693230e+07</td>\n",
       "      <td>1.761963e+07</td>\n",
       "      <td>1.732447e+07</td>\n",
       "      <td>6.409124e+04</td>\n",
       "      <td>0.872989</td>\n",
       "    </tr>\n",
       "    <tr>\n",
       "      <th>std</th>\n",
       "      <td>8.894665</td>\n",
       "      <td>5246.287783</td>\n",
       "      <td>3720.078752</td>\n",
       "      <td>3700.345330</td>\n",
       "      <td>17613.825187</td>\n",
       "      <td>15861.445678</td>\n",
       "      <td>1429.159367</td>\n",
       "      <td>5616.748808</td>\n",
       "      <td>81832.210543</td>\n",
       "      <td>1.011575e+05</td>\n",
       "      <td>...</td>\n",
       "      <td>7980.542461</td>\n",
       "      <td>22669.847760</td>\n",
       "      <td>3264.879486</td>\n",
       "      <td>12637.864430</td>\n",
       "      <td>8.901521e+07</td>\n",
       "      <td>6.574362e+07</td>\n",
       "      <td>7.603993e+07</td>\n",
       "      <td>7.251711e+07</td>\n",
       "      <td>2.283130e+05</td>\n",
       "      <td>0.555930</td>\n",
       "    </tr>\n",
       "    <tr>\n",
       "      <th>min</th>\n",
       "      <td>1990.000000</td>\n",
       "      <td>0.000000</td>\n",
       "      <td>0.000000</td>\n",
       "      <td>0.000200</td>\n",
       "      <td>0.000000</td>\n",
       "      <td>0.000000</td>\n",
       "      <td>0.000000</td>\n",
       "      <td>0.000100</td>\n",
       "      <td>-797183.079000</td>\n",
       "      <td>0.000000e+00</td>\n",
       "      <td>...</td>\n",
       "      <td>0.432900</td>\n",
       "      <td>0.000000</td>\n",
       "      <td>0.000000</td>\n",
       "      <td>0.031900</td>\n",
       "      <td>0.000000e+00</td>\n",
       "      <td>0.000000e+00</td>\n",
       "      <td>2.500000e+02</td>\n",
       "      <td>2.700000e+02</td>\n",
       "      <td>-3.918841e+05</td>\n",
       "      <td>-1.415833</td>\n",
       "    </tr>\n",
       "    <tr>\n",
       "      <th>25%</th>\n",
       "      <td>1997.000000</td>\n",
       "      <td>0.000000</td>\n",
       "      <td>0.000000</td>\n",
       "      <td>11.006525</td>\n",
       "      <td>181.260800</td>\n",
       "      <td>0.000000</td>\n",
       "      <td>6.000000</td>\n",
       "      <td>27.958600</td>\n",
       "      <td>-2848.350000</td>\n",
       "      <td>0.000000e+00</td>\n",
       "      <td>...</td>\n",
       "      <td>37.632100</td>\n",
       "      <td>0.000000</td>\n",
       "      <td>0.000000</td>\n",
       "      <td>13.291900</td>\n",
       "      <td>9.731100e+04</td>\n",
       "      <td>2.173860e+05</td>\n",
       "      <td>2.013260e+05</td>\n",
       "      <td>2.078900e+05</td>\n",
       "      <td>5.221244e+03</td>\n",
       "      <td>0.511333</td>\n",
       "    </tr>\n",
       "    <tr>\n",
       "      <th>50%</th>\n",
       "      <td>2005.000000</td>\n",
       "      <td>1.651850</td>\n",
       "      <td>0.517900</td>\n",
       "      <td>103.698200</td>\n",
       "      <td>534.817400</td>\n",
       "      <td>0.000000</td>\n",
       "      <td>13.000000</td>\n",
       "      <td>204.962800</td>\n",
       "      <td>-62.920000</td>\n",
       "      <td>4.444000e+01</td>\n",
       "      <td>...</td>\n",
       "      <td>269.856300</td>\n",
       "      <td>0.000000</td>\n",
       "      <td>0.000000</td>\n",
       "      <td>141.096300</td>\n",
       "      <td>1.595322e+06</td>\n",
       "      <td>2.357581e+06</td>\n",
       "      <td>2.469660e+06</td>\n",
       "      <td>2.444135e+06</td>\n",
       "      <td>1.214765e+04</td>\n",
       "      <td>0.834300</td>\n",
       "    </tr>\n",
       "    <tr>\n",
       "      <th>75%</th>\n",
       "      <td>2013.000000</td>\n",
       "      <td>111.081400</td>\n",
       "      <td>64.950775</td>\n",
       "      <td>377.640975</td>\n",
       "      <td>1536.640000</td>\n",
       "      <td>690.408800</td>\n",
       "      <td>116.325487</td>\n",
       "      <td>1207.000900</td>\n",
       "      <td>0.000000</td>\n",
       "      <td>4.701746e+03</td>\n",
       "      <td>...</td>\n",
       "      <td>1126.818900</td>\n",
       "      <td>0.000000</td>\n",
       "      <td>9.577875</td>\n",
       "      <td>1136.925400</td>\n",
       "      <td>8.177340e+06</td>\n",
       "      <td>8.277123e+06</td>\n",
       "      <td>9.075924e+06</td>\n",
       "      <td>9.112588e+06</td>\n",
       "      <td>3.513973e+04</td>\n",
       "      <td>1.206750</td>\n",
       "    </tr>\n",
       "    <tr>\n",
       "      <th>max</th>\n",
       "      <td>2020.000000</td>\n",
       "      <td>114616.401100</td>\n",
       "      <td>52227.630600</td>\n",
       "      <td>33490.074100</td>\n",
       "      <td>164915.255600</td>\n",
       "      <td>241025.069600</td>\n",
       "      <td>16459.000000</td>\n",
       "      <td>67945.765000</td>\n",
       "      <td>171121.076000</td>\n",
       "      <td>1.605106e+06</td>\n",
       "      <td>...</td>\n",
       "      <td>70592.646500</td>\n",
       "      <td>991717.543100</td>\n",
       "      <td>51771.256800</td>\n",
       "      <td>248879.176900</td>\n",
       "      <td>9.000991e+08</td>\n",
       "      <td>9.020778e+08</td>\n",
       "      <td>7.435866e+08</td>\n",
       "      <td>7.133419e+08</td>\n",
       "      <td>3.115114e+06</td>\n",
       "      <td>3.558083</td>\n",
       "    </tr>\n",
       "  </tbody>\n",
       "</table>\n",
       "<p>8 rows × 30 columns</p>\n",
       "</div>"
      ],
      "text/plain": [
       "              Year  Savanna fires  Forest fires  Crop Residues  \\\n",
       "count  6965.000000    6934.000000   6872.000000    5576.000000   \n",
       "mean   2005.124910    1188.390893    919.302167     998.706309   \n",
       "std       8.894665    5246.287783   3720.078752    3700.345330   \n",
       "min    1990.000000       0.000000      0.000000       0.000200   \n",
       "25%    1997.000000       0.000000      0.000000      11.006525   \n",
       "50%    2005.000000       1.651850      0.517900     103.698200   \n",
       "75%    2013.000000     111.081400     64.950775     377.640975   \n",
       "max    2020.000000  114616.401100  52227.630600   33490.074100   \n",
       "\n",
       "       Rice Cultivation  Drained organic soils (CO2)  \\\n",
       "count       6965.000000                  6965.000000   \n",
       "mean        4259.666673                  3503.228636   \n",
       "std        17613.825187                 15861.445678   \n",
       "min            0.000000                     0.000000   \n",
       "25%          181.260800                     0.000000   \n",
       "50%          534.817400                     0.000000   \n",
       "75%         1536.640000                   690.408800   \n",
       "max       164915.255600                241025.069600   \n",
       "\n",
       "       Pesticides Manufacturing  Food Transport     Forestland  \\\n",
       "count               6965.000000     6965.000000    6472.000000   \n",
       "mean                 333.418393     1939.581760  -17828.285678   \n",
       "std                 1429.159367     5616.748808   81832.210543   \n",
       "min                    0.000000        0.000100 -797183.079000   \n",
       "25%                    6.000000       27.958600   -2848.350000   \n",
       "50%                   13.000000      204.962800     -62.920000   \n",
       "75%                  116.325487     1207.000900       0.000000   \n",
       "max                16459.000000    67945.765000  171121.076000   \n",
       "\n",
       "       Net Forest conversion  ...  Manure Management  Fires in organic soils  \\\n",
       "count           6.472000e+03  ...        6037.000000             6965.000000   \n",
       "mean            1.760564e+04  ...        2263.344946             1210.315532   \n",
       "std             1.011575e+05  ...        7980.542461            22669.847760   \n",
       "min             0.000000e+00  ...           0.432900                0.000000   \n",
       "25%             0.000000e+00  ...          37.632100                0.000000   \n",
       "50%             4.444000e+01  ...         269.856300                0.000000   \n",
       "75%             4.701746e+03  ...        1126.818900                0.000000   \n",
       "max             1.605106e+06  ...       70592.646500           991717.543100   \n",
       "\n",
       "       Fires in humid tropical forests  On-farm energy use  Rural population  \\\n",
       "count                      6810.000000         6009.000000      6.965000e+03   \n",
       "mean                        668.452931         3008.982252      1.785774e+07   \n",
       "std                        3264.879486        12637.864430      8.901521e+07   \n",
       "min                           0.000000            0.031900      0.000000e+00   \n",
       "25%                           0.000000           13.291900      9.731100e+04   \n",
       "50%                           0.000000          141.096300      1.595322e+06   \n",
       "75%                           9.577875         1136.925400      8.177340e+06   \n",
       "max                       51771.256800       248879.176900      9.000991e+08   \n",
       "\n",
       "       Urban population  Total Population - Male  Total Population - Female  \\\n",
       "count      6.965000e+03             6.965000e+03               6.965000e+03   \n",
       "mean       1.693230e+07             1.761963e+07               1.732447e+07   \n",
       "std        6.574362e+07             7.603993e+07               7.251711e+07   \n",
       "min        0.000000e+00             2.500000e+02               2.700000e+02   \n",
       "25%        2.173860e+05             2.013260e+05               2.078900e+05   \n",
       "50%        2.357581e+06             2.469660e+06               2.444135e+06   \n",
       "75%        8.277123e+06             9.075924e+06               9.112588e+06   \n",
       "max        9.020778e+08             7.435866e+08               7.133419e+08   \n",
       "\n",
       "       total_emission  Average Temperature °C  \n",
       "count    6.965000e+03             6965.000000  \n",
       "mean     6.409124e+04                0.872989  \n",
       "std      2.283130e+05                0.555930  \n",
       "min     -3.918841e+05               -1.415833  \n",
       "25%      5.221244e+03                0.511333  \n",
       "50%      1.214765e+04                0.834300  \n",
       "75%      3.513973e+04                1.206750  \n",
       "max      3.115114e+06                3.558083  \n",
       "\n",
       "[8 rows x 30 columns]"
      ]
     },
     "execution_count": 93,
     "metadata": {},
     "output_type": "execute_result"
    }
   ],
   "source": [
    "# Checking basic statistics \n",
    "\n",
    "agri_food_emission.describe()"
   ]
  },
  {
   "cell_type": "code",
   "execution_count": 94,
   "id": "231dcf4c",
   "metadata": {},
   "outputs": [
    {
     "data": {
      "text/plain": [
       "Area\n",
       "Afghanistan                        31\n",
       "Isle of Man                        31\n",
       "Montserrat                         31\n",
       "Morocco                            31\n",
       "Mozambique                         31\n",
       "                                   ..\n",
       "Czechoslovakia                      3\n",
       "Ethiopia PDR                        3\n",
       "USSR                                2\n",
       "Yugoslav SFR                        2\n",
       "Pacific Islands Trust Territory     1\n",
       "Name: count, Length: 236, dtype: int64"
      ]
     },
     "execution_count": 94,
     "metadata": {},
     "output_type": "execute_result"
    }
   ],
   "source": [
    "# Check counts of unique values in categorical variable\n",
    "(agri_food_emission['Area'].value_counts(dropna=False))"
   ]
  },
  {
   "cell_type": "markdown",
   "id": "769cb2f6",
   "metadata": {},
   "source": [
    "# 2. Data cleaning and consistency checks "
   ]
  },
  {
   "cell_type": "markdown",
   "id": "8b9d346b",
   "metadata": {},
   "source": [
    "## 2.1 Finding missing values"
   ]
  },
  {
   "cell_type": "code",
   "execution_count": 95,
   "id": "a6ddce49",
   "metadata": {},
   "outputs": [
    {
     "data": {
      "text/plain": [
       "Area                                  0\n",
       "Year                                  0\n",
       "Savanna fires                        31\n",
       "Forest fires                         93\n",
       "Crop Residues                      1389\n",
       "Rice Cultivation                      0\n",
       "Drained organic soils (CO2)           0\n",
       "Pesticides Manufacturing              0\n",
       "Food Transport                        0\n",
       "Forestland                          493\n",
       "Net Forest conversion               493\n",
       "Food Household Consumption          473\n",
       "Food Retail                           0\n",
       "On-farm Electricity Use               0\n",
       "Food Packaging                        0\n",
       "Agrifood Systems Waste Disposal       0\n",
       "Food Processing                       0\n",
       "Fertilizers Manufacturing             0\n",
       "IPPU                                743\n",
       "Manure applied to Soils             928\n",
       "Manure left on Pasture                0\n",
       "Manure Management                   928\n",
       "Fires in organic soils                0\n",
       "Fires in humid tropical forests     155\n",
       "On-farm energy use                  956\n",
       "Rural population                      0\n",
       "Urban population                      0\n",
       "Total Population - Male               0\n",
       "Total Population - Female             0\n",
       "total_emission                        0\n",
       "Average Temperature °C                0\n",
       "dtype: int64"
      ]
     },
     "execution_count": 95,
     "metadata": {},
     "output_type": "execute_result"
    }
   ],
   "source": [
    "# Finding missing values \n",
    "agri_food_emission.isnull().sum()"
   ]
  },
  {
   "cell_type": "markdown",
   "id": "912b90a4",
   "metadata": {},
   "source": [
    "## 2.2 Handling missing values"
   ]
  },
  {
   "cell_type": "markdown",
   "id": "ab283e44",
   "metadata": {},
   "source": [
    "The best alternative is to exclude the missing observation from the data. Because often it is the case that country level information is missing because it was not possible to collect data from the country for various reason, it  could also be that the variable is not relavant in the context of the country. This could only be found out by speaking with people who collected the data. For this execercise the best approach would be to exclude the missing obervation. This may have impact that a country might be completly removed from the dataset, or it could mean a certain country may have a missing value for the a specific year. I would exclude the missing values and continue working with the rest of the data. In spatial anlysis for example this could be indicated by showing a gray area for countries where data was not available. "
   ]
  },
  {
   "cell_type": "code",
   "execution_count": 96,
   "id": "c98b51b9",
   "metadata": {},
   "outputs": [],
   "source": [
    "# Drop observations with missing values\n",
    "agri_food_emission.dropna(inplace=True)"
   ]
  },
  {
   "cell_type": "code",
   "execution_count": 97,
   "id": "85c0ac94",
   "metadata": {},
   "outputs": [
    {
     "data": {
      "text/plain": [
       "(4546, 31)"
      ]
     },
     "execution_count": 97,
     "metadata": {},
     "output_type": "execute_result"
    }
   ],
   "source": [
    "# Check the shape of the new dataset\n",
    "agri_food_emission.shape"
   ]
  },
  {
   "cell_type": "code",
   "execution_count": 98,
   "id": "3712f797",
   "metadata": {},
   "outputs": [
    {
     "name": "stdout",
     "output_type": "stream",
     "text": [
      "<class 'pandas.core.frame.DataFrame'>\n",
      "Index: 4546 entries, 31 to 6964\n",
      "Data columns (total 31 columns):\n",
      " #   Column                           Non-Null Count  Dtype  \n",
      "---  ------                           --------------  -----  \n",
      " 0   Area                             4546 non-null   object \n",
      " 1   Year                             4546 non-null   int64  \n",
      " 2   Savanna fires                    4546 non-null   float64\n",
      " 3   Forest fires                     4546 non-null   float64\n",
      " 4   Crop Residues                    4546 non-null   float64\n",
      " 5   Rice Cultivation                 4546 non-null   float64\n",
      " 6   Drained organic soils (CO2)      4546 non-null   float64\n",
      " 7   Pesticides Manufacturing         4546 non-null   float64\n",
      " 8   Food Transport                   4546 non-null   float64\n",
      " 9   Forestland                       4546 non-null   float64\n",
      " 10  Net Forest conversion            4546 non-null   float64\n",
      " 11  Food Household Consumption       4546 non-null   float64\n",
      " 12  Food Retail                      4546 non-null   float64\n",
      " 13  On-farm Electricity Use          4546 non-null   float64\n",
      " 14  Food Packaging                   4546 non-null   float64\n",
      " 15  Agrifood Systems Waste Disposal  4546 non-null   float64\n",
      " 16  Food Processing                  4546 non-null   float64\n",
      " 17  Fertilizers Manufacturing        4546 non-null   float64\n",
      " 18  IPPU                             4546 non-null   float64\n",
      " 19  Manure applied to Soils          4546 non-null   float64\n",
      " 20  Manure left on Pasture           4546 non-null   float64\n",
      " 21  Manure Management                4546 non-null   float64\n",
      " 22  Fires in organic soils           4546 non-null   float64\n",
      " 23  Fires in humid tropical forests  4546 non-null   float64\n",
      " 24  On-farm energy use               4546 non-null   float64\n",
      " 25  Rural population                 4546 non-null   float64\n",
      " 26  Urban population                 4546 non-null   float64\n",
      " 27  Total Population - Male          4546 non-null   float64\n",
      " 28  Total Population - Female        4546 non-null   float64\n",
      " 29  total_emission                   4546 non-null   float64\n",
      " 30  Average Temperature °C           4546 non-null   float64\n",
      "dtypes: float64(29), int64(1), object(1)\n",
      "memory usage: 1.1+ MB\n",
      "None\n"
     ]
    }
   ],
   "source": [
    "# Check info for the new dataset\n",
    "print(agri_food_emission.info())\n"
   ]
  },
  {
   "cell_type": "code",
   "execution_count": 99,
   "id": "e542b49e",
   "metadata": {},
   "outputs": [
    {
     "name": "stdout",
     "output_type": "stream",
     "text": [
      "Area\n",
      "Albania           31\n",
      "Mali              31\n",
      "Norway            31\n",
      "Nigeria           31\n",
      "Nicaragua         31\n",
      "                  ..\n",
      "Sudan              9\n",
      "USSR               2\n",
      "Yugoslav SFR       2\n",
      "Ethiopia PDR       2\n",
      "Czechoslovakia     2\n",
      "Name: count, Length: 156, dtype: int64\n"
     ]
    }
   ],
   "source": [
    "# Check counts of unique values in categorical variables\n",
    "print(agri_food_emission['Area'].value_counts(dropna=False))"
   ]
  },
  {
   "cell_type": "markdown",
   "id": "c3841a3e",
   "metadata": {},
   "source": [
    "## 2.3 Finding duplicates"
   ]
  },
  {
   "cell_type": "code",
   "execution_count": 100,
   "id": "20376ced",
   "metadata": {},
   "outputs": [],
   "source": [
    "# Finding duplicates \n",
    "df_dups= agri_food_emission[agri_food_emission.duplicated()]\n"
   ]
  },
  {
   "cell_type": "code",
   "execution_count": 101,
   "id": "9f40df5f",
   "metadata": {},
   "outputs": [
    {
     "data": {
      "text/html": [
       "<div>\n",
       "<style scoped>\n",
       "    .dataframe tbody tr th:only-of-type {\n",
       "        vertical-align: middle;\n",
       "    }\n",
       "\n",
       "    .dataframe tbody tr th {\n",
       "        vertical-align: top;\n",
       "    }\n",
       "\n",
       "    .dataframe thead th {\n",
       "        text-align: right;\n",
       "    }\n",
       "</style>\n",
       "<table border=\"1\" class=\"dataframe\">\n",
       "  <thead>\n",
       "    <tr style=\"text-align: right;\">\n",
       "      <th></th>\n",
       "      <th>Area</th>\n",
       "      <th>Year</th>\n",
       "      <th>Savanna fires</th>\n",
       "      <th>Forest fires</th>\n",
       "      <th>Crop Residues</th>\n",
       "      <th>Rice Cultivation</th>\n",
       "      <th>Drained organic soils (CO2)</th>\n",
       "      <th>Pesticides Manufacturing</th>\n",
       "      <th>Food Transport</th>\n",
       "      <th>Forestland</th>\n",
       "      <th>...</th>\n",
       "      <th>Manure Management</th>\n",
       "      <th>Fires in organic soils</th>\n",
       "      <th>Fires in humid tropical forests</th>\n",
       "      <th>On-farm energy use</th>\n",
       "      <th>Rural population</th>\n",
       "      <th>Urban population</th>\n",
       "      <th>Total Population - Male</th>\n",
       "      <th>Total Population - Female</th>\n",
       "      <th>total_emission</th>\n",
       "      <th>Average Temperature °C</th>\n",
       "    </tr>\n",
       "  </thead>\n",
       "  <tbody>\n",
       "  </tbody>\n",
       "</table>\n",
       "<p>0 rows × 31 columns</p>\n",
       "</div>"
      ],
      "text/plain": [
       "Empty DataFrame\n",
       "Columns: [Area, Year, Savanna fires, Forest fires, Crop Residues, Rice Cultivation, Drained organic soils (CO2), Pesticides Manufacturing, Food Transport, Forestland, Net Forest conversion, Food Household Consumption, Food Retail, On-farm Electricity Use, Food Packaging, Agrifood Systems Waste Disposal, Food Processing, Fertilizers Manufacturing, IPPU, Manure applied to Soils, Manure left on Pasture, Manure Management, Fires in organic soils, Fires in humid tropical forests, On-farm energy use, Rural population, Urban population, Total Population - Male, Total Population - Female, total_emission, Average Temperature °C]\n",
       "Index: []\n",
       "\n",
       "[0 rows x 31 columns]"
      ]
     },
     "execution_count": 101,
     "metadata": {},
     "output_type": "execute_result"
    }
   ],
   "source": [
    "df_dups"
   ]
  },
  {
   "cell_type": "markdown",
   "id": "dd117e1f",
   "metadata": {},
   "source": [
    "## 2.4 Finding mixed type data"
   ]
  },
  {
   "cell_type": "code",
   "execution_count": 102,
   "id": "2e65f7f2",
   "metadata": {},
   "outputs": [],
   "source": [
    "for col in agri_food_emission.columns.tolist():\n",
    "  weird = (agri_food_emission[[col]].applymap(type) != agri_food_emission[[col]].iloc[0].apply(type)).any(axis = 1)\n",
    "  if len (agri_food_emission[weird]) > 0:\n",
    "    print (col)"
   ]
  },
  {
   "cell_type": "markdown",
   "id": "40c2879a",
   "metadata": {},
   "source": [
    "There is no mixed type data"
   ]
  },
  {
   "cell_type": "code",
   "execution_count": 104,
   "id": "6f85778c",
   "metadata": {},
   "outputs": [],
   "source": [
    "#  Export data as .csv\n",
    "agri_food_emission.to_csv(os.path.join(path, '02_Data','Prepared Data', 'agri_food_emission.csv'), index=False)"
   ]
  },
  {
   "cell_type": "code",
   "execution_count": null,
   "id": "2f5608d2",
   "metadata": {},
   "outputs": [],
   "source": []
  }
 ],
 "metadata": {
  "kernelspec": {
   "display_name": "Python 3 (ipykernel)",
   "language": "python",
   "name": "python3"
  },
  "language_info": {
   "codemirror_mode": {
    "name": "ipython",
    "version": 3
   },
   "file_extension": ".py",
   "mimetype": "text/x-python",
   "name": "python",
   "nbconvert_exporter": "python",
   "pygments_lexer": "ipython3",
   "version": "3.11.5"
  }
 },
 "nbformat": 4,
 "nbformat_minor": 5
}
